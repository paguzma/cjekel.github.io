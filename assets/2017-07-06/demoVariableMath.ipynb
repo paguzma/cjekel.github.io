{
 "cells": [
  {
   "cell_type": "markdown",
   "metadata": {},
   "source": [
    "# Be careful with pass by reference and pass by value in Python"
   ]
  },
  {
   "cell_type": "code",
   "execution_count": 13,
   "metadata": {
    "collapsed": false
   },
   "outputs": [
    {
     "name": "stdout",
     "output_type": "stream",
     "text": [
      "a =  1\n",
      "b =  2\n"
     ]
    }
   ],
   "source": [
    "a = 1\n",
    "b = a\n",
    "b +=  1\n",
    "print 'a = ', a\n",
    "print 'b = ', b"
   ]
  },
  {
   "cell_type": "markdown",
   "metadata": {},
   "source": [
    "# When you assign a variable to another array in numpy, the new numpy arrays uses the same memory reference"
   ]
  },
  {
   "cell_type": "code",
   "execution_count": 14,
   "metadata": {
    "collapsed": false
   },
   "outputs": [
    {
     "name": "stdout",
     "output_type": "stream",
     "text": [
      "A =  2\n",
      "B =  2\n"
     ]
    }
   ],
   "source": [
    "import numpy as np\n",
    "A = np.array(1)\n",
    "B = A\n",
    "B += 1\n",
    "print 'A = ', A\n",
    "print 'B = ', B"
   ]
  },
  {
   "cell_type": "markdown",
   "metadata": {},
   "source": [
    "# To initiate a new instance of an numpy array in memory use .copy() "
   ]
  },
  {
   "cell_type": "code",
   "execution_count": 15,
   "metadata": {
    "collapsed": false
   },
   "outputs": [
    {
     "name": "stdout",
     "output_type": "stream",
     "text": [
      "A =  1\n",
      "B =  2\n"
     ]
    }
   ],
   "source": [
    "import numpy as np\n",
    "A = np.array(1)\n",
    "B = A.copy()\n",
    "B += 1\n",
    "print 'A = ', A\n",
    "print 'B = ', B"
   ]
  },
  {
   "cell_type": "code",
   "execution_count": null,
   "metadata": {
    "collapsed": true
   },
   "outputs": [],
   "source": []
  }
 ],
 "metadata": {
  "kernelspec": {
   "display_name": "Python 2",
   "language": "python",
   "name": "python2"
  },
  "language_info": {
   "codemirror_mode": {
    "name": "ipython",
    "version": 2
   },
   "file_extension": ".py",
   "mimetype": "text/x-python",
   "name": "python",
   "nbconvert_exporter": "python",
   "pygments_lexer": "ipython2",
   "version": "2.7.13"
  }
 },
 "nbformat": 4,
 "nbformat_minor": 2
}
